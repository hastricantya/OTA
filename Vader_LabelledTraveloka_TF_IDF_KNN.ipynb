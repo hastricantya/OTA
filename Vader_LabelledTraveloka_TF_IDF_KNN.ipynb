{
  "nbformat": 4,
  "nbformat_minor": 0,
  "metadata": {
    "colab": {
      "provenance": [],
      "authorship_tag": "ABX9TyO4ZlaOqqjlYYV8jxZbXVuY"
    },
    "kernelspec": {
      "name": "python3",
      "display_name": "Python 3"
    },
    "language_info": {
      "name": "python"
    }
  },
  "cells": [
    {
      "cell_type": "markdown",
      "source": [
        "DATA MENTAH"
      ],
      "metadata": {
        "id": "PbZckaHD2uH3"
      }
    },
    {
      "cell_type": "code",
      "execution_count": null,
      "metadata": {
        "colab": {
          "base_uri": "https://localhost:8080/"
        },
        "id": "dPVp6rXx0a2V",
        "outputId": "5d255a07-5576-4832-ec7c-13beb3b0b95c"
      },
      "outputs": [
        {
          "output_type": "stream",
          "name": "stdout",
          "text": [
            "              precision    recall  f1-score   support\n",
            "\n",
            "    negative       0.81      0.47      0.60       153\n",
            "    positive       0.75      0.93      0.83       259\n",
            "\n",
            "    accuracy                           0.76       412\n",
            "   macro avg       0.78      0.70      0.71       412\n",
            "weighted avg       0.77      0.76      0.74       412\n",
            "\n",
            "Predicted class: ['positive']\n"
          ]
        }
      ],
      "source": [
        "import pandas as pd\n",
        "from sklearn.feature_extraction.text import TfidfVectorizer\n",
        "from sklearn.model_selection import train_test_split\n",
        "from sklearn.neighbors import KNeighborsClassifier\n",
        "from sklearn.metrics import classification_report\n",
        "\n",
        "# Load data from CSV\n",
        "csv_link = \"https://raw.githubusercontent.com/hastricantya/OTA/main/labelledmentahprocessed_data.csv\"  # Replace with your CSV file link\n",
        "data = pd.read_csv(csv_link)\n",
        "\n",
        "\n",
        "# Assuming your CSV has a 'text' column for input text and a 'label' column for labels\n",
        "X = data['Translated_TEXT']\n",
        "y = data['Sentiment']\n",
        "\n",
        "# Split the data into training and testing sets\n",
        "X_train, X_test, y_train, y_test = train_test_split(X, y, test_size=0.25, random_state=42)\n",
        "\n",
        "# TF-IDF vectorization\n",
        "tfidf_vectorizer = TfidfVectorizer(max_features=1000)  # You can adjust max_features as needed\n",
        "X_train_tfidf = tfidf_vectorizer.fit_transform(X_train)\n",
        "X_test_tfidf = tfidf_vectorizer.transform(X_test)\n",
        "\n",
        "# Initialize and train K-Nearest Neighbors classifier\n",
        "k = 15  # Number of neighbors\n",
        "knn_classifier = KNeighborsClassifier(n_neighbors=k)\n",
        "knn_classifier.fit(X_train_tfidf, y_train)\n",
        "\n",
        "# Make predictions on the test set\n",
        "y_pred = knn_classifier.predict(X_test_tfidf)\n",
        "\n",
        "# Evaluate the classifier\n",
        "print(classification_report(y_test, y_pred))\n",
        "\n",
        "# Optionally, you can input new text and get predictions\n",
        "new_text = [\"This is a new text to classify\"]\n",
        "new_text_tfidf = tfidf_vectorizer.transform(new_text)\n",
        "new_prediction = knn_classifier.predict(new_text_tfidf)\n",
        "print(\"Predicted class:\", new_prediction)\n"
      ]
    },
    {
      "cell_type": "markdown",
      "source": [
        "UNDER SAMPLING"
      ],
      "metadata": {
        "id": "NHW0XuGR2ycj"
      }
    },
    {
      "cell_type": "code",
      "source": [
        "import pandas as pd\n",
        "from sklearn.feature_extraction.text import TfidfVectorizer\n",
        "from sklearn.model_selection import train_test_split\n",
        "from sklearn.neighbors import KNeighborsClassifier\n",
        "from sklearn.metrics import classification_report\n",
        "\n",
        "# Load data from CSV\n",
        "csv_link = \"https://raw.githubusercontent.com/hastricantya/OTA/main/labelledmentahprocessed_data.csv\"  # Replace with your CSV file link\n",
        "data = pd.read_csv(csv_link)\n",
        "\n",
        "# Assuming your CSV has a 'text' column for input text and a 'label' column for labels\n",
        "X = data['Translated_TEXT']\n",
        "y = data['Sentiment']\n",
        "\n",
        "# Split the data into training and testing sets\n",
        "X_train, X_test, y_train, y_test = train_test_split(X, y, test_size=0.25, random_state=42)\n",
        "\n",
        "# TF-IDF vectorization\n",
        "tfidf_vectorizer = TfidfVectorizer(max_features=1000)  # You can adjust max_features as needed\n",
        "X_train_tfidf = tfidf_vectorizer.fit_transform(X_train)\n",
        "X_test_tfidf = tfidf_vectorizer.transform(X_test)\n",
        "\n",
        "# Initialize and train K-Nearest Neighbors classifier\n",
        "k = 25\n",
        "  # Number of neighbors\n",
        "knn_classifier = KNeighborsClassifier(n_neighbors=k)\n",
        "knn_classifier.fit(X_train_tfidf, y_train)\n",
        "\n",
        "# Make predictions on the test set\n",
        "y_pred = knn_classifier.predict(X_test_tfidf)\n",
        "\n",
        "# Evaluate the classifier\n",
        "print(classification_report(y_test, y_pred))\n",
        "\n",
        "# Optionally, you can input new text and get predictions\n",
        "new_text = [\"This is a new text to classify\"]\n",
        "new_text_tfidf = tfidf_vectorizer.transform(new_text)\n",
        "new_prediction = knn_classifier.predict(new_text_tfidf)\n",
        "print(\"Predicted class:\", new_prediction)\n"
      ],
      "metadata": {
        "colab": {
          "base_uri": "https://localhost:8080/"
        },
        "id": "dovEq6MQ2tCF",
        "outputId": "ee956bdc-8b3a-4466-c040-1ac09124585d"
      },
      "execution_count": null,
      "outputs": [
        {
          "output_type": "stream",
          "name": "stdout",
          "text": [
            "              precision    recall  f1-score   support\n",
            "\n",
            "    negative       0.76      0.48      0.59       153\n",
            "    positive       0.75      0.91      0.82       259\n",
            "\n",
            "    accuracy                           0.75       412\n",
            "   macro avg       0.75      0.70      0.70       412\n",
            "weighted avg       0.75      0.75      0.73       412\n",
            "\n",
            "Predicted class: ['positive']\n"
          ]
        }
      ]
    },
    {
      "cell_type": "markdown",
      "source": [
        "OVER SAMPLING"
      ],
      "metadata": {
        "id": "KprXCbeg0ETn"
      }
    },
    {
      "cell_type": "code",
      "source": [
        "import pandas as pd\n",
        "from sklearn.feature_extraction.text import TfidfVectorizer\n",
        "from sklearn.model_selection import train_test_split\n",
        "from sklearn.neighbors import KNeighborsClassifier\n",
        "from sklearn.metrics import classification_report\n",
        "\n",
        "# Load data from CSV\n",
        "csv_link = \"https://raw.githubusercontent.com/hastricantya/OTA/main/oversampled_data.csv\"  # Replace with your CSV file link\n",
        "data = pd.read_csv(csv_link)\n",
        "\n",
        "# Assuming your CSV has a 'text' column for input text and a 'label' column for labels\n",
        "X = data['Content']\n",
        "y = data['label']\n",
        "\n",
        "# Split the data into training and testing sets\n",
        "X_train, X_test, y_train, y_test = train_test_split(X, y, test_size=0.25, random_state=42)\n",
        "\n",
        "# TF-IDF vectorization\n",
        "tfidf_vectorizer = TfidfVectorizer(max_features=1000)  # You can adjust max_features as needed\n",
        "X_train_tfidf = tfidf_vectorizer.fit_transform(X_train)\n",
        "X_test_tfidf = tfidf_vectorizer.transform(X_test)\n",
        "\n",
        "# Initialize and train K-Nearest Neighbors classifier\n",
        "k = 25  # Number of neighbors\n",
        "knn_classifier = KNeighborsClassifier(n_neighbors=k)\n",
        "knn_classifier.fit(X_train_tfidf, y_train)\n",
        "\n",
        "# Make predictions on the test set\n",
        "y_pred = knn_classifier.predict(X_test_tfidf)\n",
        "\n",
        "# Evaluate the classifier\n",
        "print(classification_report(y_test, y_pred))\n",
        "\n",
        "# Optionally, you can input new text and get predictions\n",
        "new_text = [\"This is a new text to classify\"]\n",
        "new_text_tfidf = tfidf_vectorizer.transform(new_text)\n",
        "new_prediction = knn_classifier.predict(new_text_tfidf)\n",
        "print(\"Predicted class:\", new_prediction)\n"
      ],
      "metadata": {
        "colab": {
          "base_uri": "https://localhost:8080/"
        },
        "id": "TiMmdMaB0G4s",
        "outputId": "6bd39e27-ee6c-4e54-dea7-ee295a89d84c"
      },
      "execution_count": null,
      "outputs": [
        {
          "output_type": "stream",
          "name": "stdout",
          "text": [
            "              precision    recall  f1-score   support\n",
            "\n",
            "    Negative       0.77      1.00      0.87       277\n",
            "    Positive       1.00      0.25      0.40       113\n",
            "\n",
            "    accuracy                           0.78       390\n",
            "   macro avg       0.88      0.62      0.63       390\n",
            "weighted avg       0.83      0.78      0.73       390\n",
            "\n",
            "Predicted class: ['Negative']\n"
          ]
        }
      ]
    }
  ]
}