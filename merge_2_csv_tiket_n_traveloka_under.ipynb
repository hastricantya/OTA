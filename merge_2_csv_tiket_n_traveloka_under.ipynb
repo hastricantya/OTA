{
  "nbformat": 4,
  "nbformat_minor": 0,
  "metadata": {
    "colab": {
      "provenance": [],
      "authorship_tag": "ABX9TyMRc63JfeQJQ2oYF+O2/P3c"
    },
    "kernelspec": {
      "name": "python3",
      "display_name": "Python 3"
    },
    "language_info": {
      "name": "python"
    }
  },
  "cells": [
    {
      "cell_type": "code",
      "source": [
        "import pandas as pd"
      ],
      "metadata": {
        "id": "Pwm21aqqTwnE"
      },
      "execution_count": null,
      "outputs": []
    },
    {
      "cell_type": "code",
      "execution_count": null,
      "metadata": {
        "id": "2Rt1RGbnTsvO"
      },
      "outputs": [],
      "source": [
        "import pandas as pd\n",
        "\n",
        "# Define the URLs of the CSV files\n",
        "url1 = 'https://raw.githubusercontent.com/hastricantya/OTA/main/Final_LabelledTravelokaRemoved.csv'\n",
        "url2 = 'https://raw.githubusercontent.com/hastricantya/OTA/main/Final_LabelledTiketcomRemoved.csv'\n",
        "\n",
        "# Read the CSV files from the URLs into DataFrames\n",
        "df1 = pd.read_csv(url1)\n",
        "df2 = pd.read_csv(url2)\n",
        "\n",
        "# Merge the two DataFrames using all columns as they have the same column names\n",
        "merged_df = pd.concat([df1, df2], ignore_index=True)\n",
        "\n",
        "# Save the merged DataFrame to a new CSV file\n",
        "merged_df.to_csv('Final_Data_OTA.csv', index=False)\n"
      ]
    },
    {
      "cell_type": "code",
      "source": [
        "import pandas as pd\n",
        "from sklearn.feature_extraction.text import TfidfVectorizer\n",
        "from sklearn.model_selection import train_test_split\n",
        "from sklearn.neighbors import KNeighborsClassifier\n",
        "from sklearn.metrics import classification_report"
      ],
      "metadata": {
        "id": "kFKw9VciYNBj"
      },
      "execution_count": null,
      "outputs": []
    },
    {
      "cell_type": "code",
      "source": [
        "# Load data from CSV\n",
        "csv_link = \"https://raw.githubusercontent.com/hastricantya/OTA/main/Final_Data_OTA.csv\"  # Replace with your CSV file link\n",
        "data = pd.read_csv(csv_link)\n",
        "# Find the number of data points\n",
        "num_data_points = data.shape[0]\n",
        "print(\"Number of data points:\", num_data_points)"
      ],
      "metadata": {
        "id": "c3oeI64eYytU",
        "colab": {
          "base_uri": "https://localhost:8080/"
        },
        "outputId": "001d0cf5-1ee3-463b-8909-6bf6529b7a07"
      },
      "execution_count": null,
      "outputs": [
        {
          "output_type": "stream",
          "name": "stdout",
          "text": [
            "Number of data points: 2072\n"
          ]
        }
      ]
    },
    {
      "cell_type": "markdown",
      "source": [
        "UNDER SAMPLING SCENARIO"
      ],
      "metadata": {
        "id": "1lblpo9cD0BU"
      }
    },
    {
      "cell_type": "code",
      "source": [
        "import pandas as pd\n",
        "from imblearn.under_sampling import RandomUnderSampler\n",
        "\n",
        "# Read the merged dataset\n",
        "data = pd.read_csv('Final_Data_OTA.csv')\n",
        "\n",
        "# Separate features and target\n",
        "X = data['FINAL_FIX']\n",
        "y = data['label']\n",
        "\n",
        "# Perform Random Under-Sampling\n",
        "undersampler = RandomUnderSampler(sampling_strategy='majority', random_state=42)\n",
        "X_resampled, y_resampled = undersampler.fit_resample(X.to_frame(), y)\n",
        "\n",
        "# Convert X_resampled back to a Series (if needed)\n",
        "X_resampled = X_resampled.squeeze()\n",
        "\n",
        "# Now, X_resampled and y_resampled contain the undersampled data\n",
        "\n",
        "# Confirm the class distribution after undersampling\n",
        "print(\"Class distribution after undersampling:\")\n",
        "print(pd.Series(y_resampled).value_counts())\n"
      ],
      "metadata": {
        "colab": {
          "base_uri": "https://localhost:8080/"
        },
        "id": "YvD0kpwl6rqE",
        "outputId": "f1256b84-1607-4784-db49-5974379c0089"
      },
      "execution_count": null,
      "outputs": [
        {
          "output_type": "stream",
          "name": "stdout",
          "text": [
            "Class distribution after undersampling:\n",
            "Negative    972\n",
            "Positive    972\n",
            "Name: label, dtype: int64\n"
          ]
        }
      ]
    },
    {
      "cell_type": "code",
      "source": [
        "# Assuming your CSV has a 'text' column for input text and a 'label' column for labels\n",
        "X = data['FINAL_FIX']\n",
        "y = data['label']\n",
        "\n",
        "# Split the data into training and testing sets\n",
        "X_train, X_test, y_train, y_test = train_test_split(X, y, test_size=0.25, random_state=42)\n",
        "\n",
        "# TF-IDF vectorization\n",
        "tfidf_vectorizer = TfidfVectorizer(max_features=1000)  # You can adjust max_features as needed\n",
        "X_train_tfidf = tfidf_vectorizer.fit_transform(X_train)\n",
        "X_test_tfidf = tfidf_vectorizer.transform(X_test)\n"
      ],
      "metadata": {
        "id": "KFNX84Ae9QzT"
      },
      "execution_count": null,
      "outputs": []
    },
    {
      "cell_type": "code",
      "source": [
        "# Initialize and train K-Nearest Neighbors classifier\n",
        "k = 28  # Number of neighbors\n",
        "knn_classifier = KNeighborsClassifier(n_neighbors=k)\n",
        "knn_classifier.fit(X_train_tfidf, y_train)\n",
        "\n",
        "# Make predictions on the test set\n",
        "y_pred = knn_classifier.predict(X_test_tfidf)\n",
        "\n",
        "# Evaluate the classifier\n",
        "print(classification_report(y_test, y_pred))\n",
        "\n",
        "# Optionally, you can input new text and get predictions\n",
        "new_text = [\"This is a new text to classify\"]\n",
        "new_text_tfidf = tfidf_vectorizer.transform(new_text)\n",
        "new_prediction = knn_classifier.predict(new_text_tfidf)\n",
        "print(\"Predicted class:\", new_prediction)"
      ],
      "metadata": {
        "colab": {
          "base_uri": "https://localhost:8080/"
        },
        "id": "7bAGeGnQdJe5",
        "outputId": "2b124db4-7511-438e-ed7d-fb6c20b2865a"
      },
      "execution_count": null,
      "outputs": [
        {
          "output_type": "stream",
          "name": "stdout",
          "text": [
            "              precision    recall  f1-score   support\n",
            "\n",
            "    Negative       0.90      0.70      0.79       267\n",
            "    Positive       0.74      0.92      0.82       251\n",
            "\n",
            "    accuracy                           0.81       518\n",
            "   macro avg       0.82      0.81      0.81       518\n",
            "weighted avg       0.83      0.81      0.81       518\n",
            "\n",
            "Predicted class: ['Positive']\n"
          ]
        }
      ]
    },
    {
      "cell_type": "code",
      "source": [
        "from sklearn.metrics import confusion_matrix\n",
        "import seaborn as sns\n",
        "import matplotlib.pyplot as plt"
      ],
      "metadata": {
        "id": "9t-V2u43EJZx"
      },
      "execution_count": null,
      "outputs": []
    },
    {
      "cell_type": "code",
      "source": [
        "confusion = confusion_matrix(y_test, y_pred)"
      ],
      "metadata": {
        "id": "RATKSq3JEMeQ"
      },
      "execution_count": null,
      "outputs": []
    },
    {
      "cell_type": "code",
      "source": [
        "plt.figure(figsize=(8, 6))\n",
        "sns.heatmap(confusion, annot=True, fmt='d', cmap='Blues', xticklabels=knn_classifier.classes_, yticklabels=knn_classifier.classes_)\n",
        "plt.xlabel('Predicted')\n",
        "plt.ylabel('Actual')\n",
        "plt.title('Confusion Matrix')\n",
        "plt.show()"
      ],
      "metadata": {
        "colab": {
          "base_uri": "https://localhost:8080/",
          "height": 564
        },
        "id": "jPEnrdVgEOdh",
        "outputId": "9dbea2e0-992a-4791-ffe2-86da796e15f8"
      },
      "execution_count": null,
      "outputs": [
        {
          "output_type": "display_data",
          "data": {
            "text/plain": [
              "<Figure size 800x600 with 2 Axes>"
            ],
            "image/png": "[encoded data removed]"
          },
          "metadata": {}
        }
      ]
    }
  ]
}