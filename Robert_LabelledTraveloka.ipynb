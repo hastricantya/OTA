{
  "cells": [
    {
      "cell_type": "markdown",
      "metadata": {
        "id": "xLc34wad-e9F"
      },
      "source": [
        "UNDER SAMPLING"
      ]
    },
    {
      "cell_type": "code",
      "execution_count": null,
      "metadata": {
        "id": "7wuF8Z6oeXIB"
      },
      "outputs": [],
      "source": [
        "import pandas as pd\n",
        "from sklearn.feature_extraction.text import TfidfVectorizer\n",
        "from sklearn.model_selection import train_test_split\n",
        "from sklearn.neighbors import KNeighborsClassifier\n",
        "from sklearn.metrics import classification_report"
      ]
    },
    {
      "cell_type": "code",
      "execution_count": null,
      "metadata": {
        "id": "sSFrxSkLea6c"
      },
      "outputs": [],
      "source": [
        "# Load data from CSV\n",
        "csv_link = \"https://raw.githubusercontent.com/hastricantya/OTA/main/robert_under_Final_LabelledTravelokaRemoved.csv\"  # Replace with your CSV file link\n",
        "data = pd.read_csv(csv_link)"
      ]
    },
    {
      "cell_type": "code",
      "execution_count": null,
      "metadata": {
        "colab": {
          "base_uri": "https://localhost:8080/"
        },
        "id": "FDqcEmbAehu3",
        "outputId": "3175a9d2-9e7b-4b7d-a097-11a2876ecdd1"
      },
      "outputs": [
        {
          "name": "stdout",
          "output_type": "stream",
          "text": [
            "Number of data points: 1113\n"
          ]
        }
      ],
      "source": [
        "# Find the number of data points\n",
        "num_data_points = data.shape[0]\n",
        "print(\"Number of data points:\", num_data_points)"
      ]
    },
    {
      "cell_type": "code",
      "execution_count": null,
      "metadata": {
        "id": "NDWeaGP4el3r"
      },
      "outputs": [],
      "source": [
        "# Assuming your CSV has a 'text' column for input text and a 'label' column for labels\n",
        "X = data['FINAL_FIX']\n",
        "y = data['label']\n",
        "\n",
        "# Split the data into training and testing sets\n",
        "X_train, X_test, y_train, y_test = train_test_split(X, y, test_size=0.25, random_state=42)\n",
        "\n",
        "# TF-IDF vectorization\n",
        "tfidf_vectorizer = TfidfVectorizer(max_features=1000)  # You can adjust max_features as needed\n",
        "X_train_tfidf = tfidf_vectorizer.fit_transform(X_train)\n",
        "X_test_tfidf = tfidf_vectorizer.transform(X_test)"
      ]
    },
    {
      "cell_type": "code",
      "source": [],
      "metadata": {
        "id": "MM9gUtEaeJXu"
      },
      "execution_count": null,
      "outputs": []
    },
    {
      "cell_type": "code",
      "execution_count": null,
      "metadata": {
        "colab": {
          "background_save": true
        },
        "id": "T2w6nN3nep9b",
        "outputId": "7308b03a-5a92-4c7d-e11a-f66dd2d2af7d"
      },
      "outputs": [
        {
          "name": "stdout",
          "output_type": "stream",
          "text": [
            "              precision    recall  f1-score   support\n",
            "\n",
            "    Negative       0.86      0.70      0.77       149\n",
            "    Positive       0.72      0.87      0.78       130\n",
            "\n",
            "    accuracy                           0.78       279\n",
            "   macro avg       0.79      0.78      0.78       279\n",
            "weighted avg       0.79      0.78      0.78       279\n",
            "\n"
          ]
        }
      ],
      "source": [
        "# Initialize and train K-Nearest Neighbors classifier\n",
        "k = 24  # Number of neighbors\n",
        "knn_classifier = KNeighborsClassifier(n_neighbors=k)\n",
        "knn_classifier.fit(X_train_tfidf, y_train)\n",
        "\n",
        "# Make predictions on the test set\n",
        "y_pred = knn_classifier.predict(X_test_tfidf)\n",
        "\n",
        "# Evaluate the classifier\n",
        "print(classification_report(y_test, y_pred))"
      ]
    },
    {
      "cell_type": "code",
      "execution_count": null,
      "metadata": {
        "colab": {
          "base_uri": "https://localhost:8080/"
        },
        "id": "2yQLyc1lexZP",
        "outputId": "5de3000d-27ae-4317-f1af-cb631b886104"
      },
      "outputs": [
        {
          "name": "stdout",
          "output_type": "stream",
          "text": [
            "Predicted class: ['Positive']\n"
          ]
        }
      ],
      "source": [
        "# Optionally, you can input new text and get predictions\n",
        "new_text = [\"This is a new text to classify\"]\n",
        "new_text_tfidf = tfidf_vectorizer.transform(new_text)\n",
        "new_prediction = knn_classifier.predict(new_text_tfidf)\n",
        "print(\"Predicted class:\", new_prediction)"
      ]
    },
    {
      "cell_type": "code",
      "execution_count": null,
      "metadata": {
        "id": "wCbUJUbg_4ox"
      },
      "outputs": [],
      "source": [
        "from sklearn.metrics import confusion_matrix\n",
        "import seaborn as sns\n",
        "import matplotlib.pyplot as plt"
      ]
    },
    {
      "cell_type": "code",
      "execution_count": null,
      "metadata": {
        "id": "Pkvl-ffe_9hQ"
      },
      "outputs": [],
      "source": [
        "confusion = confusion_matrix(y_test, y_pred)"
      ]
    },
    {
      "cell_type": "code",
      "execution_count": null,
      "metadata": {
        "colab": {
          "base_uri": "https://localhost:8080/",
          "height": 564
        },
        "id": "ExLS3inGAC8h",
        "outputId": "12292bab-402e-4a36-c42f-4c7243c5afdd"
      },
      "outputs": [
        {
          "data": {
            "image/png": "[encoded data removed]",
            "text/plain": [
              "<Figure size 800x600 with 2 Axes>"
            ]
          },
          "metadata": {},
          "output_type": "display_data"
        }
      ],
      "source": [
        "plt.figure(figsize=(8, 6))\n",
        "sns.heatmap(confusion, annot=True, fmt='d', cmap='Blues', xticklabels=knn_classifier.classes_, yticklabels=knn_classifier.classes_)\n",
        "plt.xlabel('Predicted')\n",
        "plt.ylabel('Actual')\n",
        "plt.title('Confusion Matrix')\n",
        "plt.show()"
      ]
    },
    {
      "cell_type": "markdown",
      "metadata": {
        "id": "eJQ5flBU_Bzz"
      },
      "source": [
        "OVER SAMPLING"
      ]
    },
    {
      "cell_type": "code",
      "execution_count": null,
      "metadata": {
        "id": "w78hCgvJfCtG"
      },
      "outputs": [],
      "source": [
        "import pandas as pd\n",
        "from sklearn.feature_extraction.text import TfidfVectorizer\n",
        "from sklearn.model_selection import train_test_split\n",
        "from sklearn.neighbors import KNeighborsClassifier\n",
        "from sklearn.metrics import classification_report"
      ]
    },
    {
      "cell_type": "code",
      "execution_count": null,
      "metadata": {
        "id": "I06mfxtofRWo"
      },
      "outputs": [],
      "source": [
        "# Load data from CSV\n",
        "csv_link = \"https://raw.githubusercontent.com/hastricantya/OTA/main/oversampled_data.csv\"  # Replace with your CSV file link\n",
        "data = pd.read_csv(csv_link)"
      ]
    },
    {
      "cell_type": "code",
      "execution_count": null,
      "metadata": {
        "colab": {
          "base_uri": "https://localhost:8080/"
        },
        "id": "tjVKnpVmfXLP",
        "outputId": "d9ec5280-2212-41f7-b611-3f969d2d699b"
      },
      "outputs": [
        {
          "output_type": "stream",
          "name": "stdout",
          "text": [
            "Number of data points: 1560\n"
          ]
        }
      ],
      "source": [
        "# Find the number of data points\n",
        "num_data_points = data.shape[0]\n",
        "print(\"Number of data points:\", num_data_points)"
      ]
    },
    {
      "cell_type": "code",
      "execution_count": null,
      "metadata": {
        "id": "2WHVJYRrk2za"
      },
      "outputs": [],
      "source": [
        "# Assuming your CSV has a 'text' column for input text and a 'label' column for labels\n",
        "X = data['Content']\n",
        "y = data['label']\n",
        "\n",
        "# Split the data into training and testing sets\n",
        "X_train, X_test, y_train, y_test = train_test_split(X, y, test_size=0.2, random_state=42)\n",
        "\n",
        "# TF-IDF vectorization\n",
        "tfidf_vectorizer = TfidfVectorizer(max_features=1000)  # You can adjust max_features as needed\n",
        "X_train_tfidf = tfidf_vectorizer.fit_transform(X_train)\n",
        "X_test_tfidf = tfidf_vectorizer.transform(X_test)\n"
      ]
    },
    {
      "cell_type": "code",
      "execution_count": null,
      "metadata": {
        "id": "a3enTugelBbf"
      },
      "outputs": [],
      "source": [
        "# Initialize and train K-Nearest Neighbors classifier\n",
        "k = 6  # Number of neighbors\n",
        "knn_model = KNeighborsClassifier(n_neighbors=k)\n",
        "knn_model.fit(X_train_tfidf, y_train)\n",
        "\n",
        "# Make predictions on the test set\n",
        "y_pred = knn_model.predict(X_test_tfidf)\n",
        "\n",
        "# Evaluate the classifier\n",
        "print(classification_report(y_test, y_pred))\n",
        "\n",
        "# Optionally, you can input new text and get predictions\n",
        "new_text = [\"This is a new text to classify\"]\n",
        "new_text_tfidf = tfidf_vectorizer.transform(new_text)\n",
        "new_prediction = knn_model.predict(new_text_tfidf)\n",
        "print(\"Predicted class:\", new_prediction)\n",
        "\n",
        "plt.figure(figsize=(8, 6))\n",
        "sns.heatmap(confusion, annot=True, fmt='d', cmap='Blues', xticklabels=knn_model.classes_, yticklabels=knn_model.classes_)\n",
        "plt.xlabel('Predicted')\n",
        "plt.ylabel('Actual')\n",
        "plt.title('Confusion Matrix')\n",
        "plt.show()"
      ]
    },
    {
      "cell_type": "code",
      "execution_count": null,
      "metadata": {
        "colab": {
          "base_uri": "https://localhost:8080/",
          "height": 581
        },
        "id": "_zNH2fPOlHrQ",
        "outputId": "53389a6d-3d4e-49e3-ad2c-ffe22b71f7b3"
      },
      "outputs": [
        {
          "name": "stdout",
          "output_type": "stream",
          "text": [
            "Predicted class: ['Negative']\n"
          ]
        },
        {
          "data": {
            "image/png": "[encoded data removed]",
            "text/plain": [
              "<Figure size 800x600 with 2 Axes>"
            ]
          },
          "metadata": {},
          "output_type": "display_data"
        }
      ],
      "source": [
        "# Optionally, you can input new text and get predictions\n",
        "new_text = [\"This is a new text to classify\"]\n",
        "new_text_tfidf = tfidf_vectorizer.transform(new_text)\n",
        "new_prediction = knn_model.predict(new_text_tfidf)\n",
        "print(\"Predicted class:\", new_prediction)\n",
        "\n",
        "plt.figure(figsize=(8, 6))\n",
        "sns.heatmap(confusion, annot=True, fmt='d', cmap='Blues', xticklabels=knn_model.classes_, yticklabels=knn_model.classes_)\n",
        "plt.xlabel('Predicted')\n",
        "plt.ylabel('Actual')\n",
        "plt.title('Confusion Matrix')\n",
        "plt.show()"
      ]
    },
    {
      "cell_type": "code",
      "execution_count": null,
      "metadata": {
        "colab": {
          "base_uri": "https://localhost:8080/",
          "height": 564
        },
        "id": "ZmRHHSuvBz7l",
        "outputId": "ee98f3fc-2bd3-4c08-bc23-530875926d95"
      },
      "outputs": [
        {
          "data": {
            "image/png": "[encoded data removed]",
            "text/plain": [
              "<Figure size 800x600 with 2 Axes>"
            ]
          },
          "metadata": {},
          "output_type": "display_data"
        }
      ],
      "source": [
        "plt.figure(figsize=(8, 6))\n",
        "sns.heatmap(confusion, annot=True, fmt='d', cmap='Blues', xticklabels=knn_model.classes_, yticklabels=knn_model.classes_)\n",
        "plt.xlabel('Predicted')\n",
        "plt.ylabel('Actual')\n",
        "plt.title('Confusion Matrix')\n",
        "plt.show()"
      ]
    },
    {
      "cell_type": "markdown",
      "metadata": {
        "id": "j9cBGNI-l3ua"
      },
      "source": [
        "DATA MENTAH"
      ]
    },
    {
      "cell_type": "code",
      "execution_count": null,
      "metadata": {
        "colab": {
          "base_uri": "https://localhost:8080/"
        },
        "id": "Y016ufbdlgXn",
        "outputId": "6be047d7-2d77-49e5-e1a5-6df9e6abb833"
      },
      "outputs": [
        {
          "name": "stdout",
          "output_type": "stream",
          "text": [
            "              precision    recall  f1-score   support\n",
            "\n",
            "    Negative       0.74      1.00      0.85       360\n",
            "    Positive       0.67      0.02      0.03       128\n",
            "\n",
            "    accuracy                           0.74       488\n",
            "   macro avg       0.70      0.51      0.44       488\n",
            "weighted avg       0.72      0.74      0.63       488\n",
            "\n",
            "Predicted class: ['Negative']\n"
          ]
        }
      ],
      "source": [
        "import pandas as pd\n",
        "from sklearn.feature_extraction.text import TfidfVectorizer\n",
        "from sklearn.model_selection import train_test_split\n",
        "from sklearn.neighbors import KNeighborsClassifier\n",
        "from sklearn.metrics import classification_report\n",
        "\n",
        "# Load data from CSV\n",
        "csv_link = \"https://raw.githubusercontent.com/hastricantya/OTA/main/Labelled_DataTravelokaRemoved_Skripsi.csv\"  # Replace with your CSV file link\n",
        "data = pd.read_csv(csv_link)\n",
        "\n",
        "# Assuming your CSV has a 'text' column for input text and a 'label' column for labels\n",
        "X = data['FINAL_FIX']\n",
        "y = data['label']\n",
        "\n",
        "# Split the data into training and testing sets\n",
        "X_train, X_test, y_train, y_test = train_test_split(X, y, test_size=0.25, random_state=42)\n",
        "\n",
        "# TF-IDF vectorization\n",
        "tfidf_vectorizer = TfidfVectorizer(max_features=1000)  # You can adjust max_features as needed\n",
        "X_train_tfidf = tfidf_vectorizer.fit_transform(X_train)\n",
        "X_test_tfidf = tfidf_vectorizer.transform(X_test)\n",
        "\n",
        "# Initialize and train K-Nearest Neighbors classifier\n",
        "k = 15  # Number of neighbors\n",
        "knn_classifier = KNeighborsClassifier(n_neighbors=k)\n",
        "knn_classifier.fit(X_train_tfidf, y_train)\n",
        "\n",
        "# Make predictions on the test set\n",
        "y_pred = knn_classifier.predict(X_test_tfidf)\n",
        "\n",
        "# Evaluate the classifier\n",
        "print(classification_report(y_test, y_pred))\n",
        "\n",
        "# Optionally, you can input new text and get predictions\n",
        "new_text = [\"This is a new text to classify\"]\n",
        "new_text_tfidf = tfidf_vectorizer.transform(new_text)\n",
        "new_prediction = knn_classifier.predict(new_text_tfidf)\n",
        "print(\"Predicted class:\", new_prediction)\n"
      ]
    }
  ],
  "metadata": {
    "colab": {
      "provenance": [],
      "authorship_tag": "ABX9TyMVCISlwuUCBjZsu1SSqXov"
    },
    "kernelspec": {
      "display_name": "Python 3",
      "name": "python3"
    },
    "language_info": {
      "name": "python"
    }
  },
  "nbformat": 4,
  "nbformat_minor": 0
}