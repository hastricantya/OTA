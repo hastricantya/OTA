{
  "nbformat": 4,
  "nbformat_minor": 0,
  "metadata": {
    "colab": {
      "provenance": [],
      "authorship_tag": "ABX9TyNEw8OGczjftUlptJVq4COC"
    },
    "kernelspec": {
      "name": "python3",
      "display_name": "Python 3"
    },
    "language_info": {
      "name": "python"
    }
  },
  "cells": [
    {
      "cell_type": "markdown",
      "source": [
        "OVER SAMPLING"
      ],
      "metadata": {
        "id": "pFAG9btYl7KA"
      }
    },
    {
      "cell_type": "code",
      "execution_count": null,
      "metadata": {
        "id": "rhXXlPy5lqxk"
      },
      "outputs": [],
      "source": [
        "import pandas as pd\n",
        "from sklearn.feature_extraction.text import TfidfVectorizer\n",
        "from sklearn.model_selection import train_test_split\n",
        "from sklearn.neighbors import KNeighborsClassifier\n",
        "from sklearn.metrics import classification_report"
      ]
    },
    {
      "cell_type": "code",
      "source": [
        "# Load data from CSV\n",
        "csv_link = \"https://raw.githubusercontent.com/hastricantya/OTA/main/oversampled_data.csv\"  # Replace with your CSV file link\n",
        "data = pd.read_csv(csv_link)"
      ],
      "metadata": {
        "id": "7A-eA-HfmL4m"
      },
      "execution_count": null,
      "outputs": []
    },
    {
      "cell_type": "code",
      "source": [
        "# Find the number of data points\n",
        "num_data_points = data.shape[0]\n",
        "print(\"Number of data points:\", num_data_points)"
      ],
      "metadata": {
        "colab": {
          "base_uri": "https://localhost:8080/"
        },
        "id": "G0IS5jtYmPPM",
        "outputId": "5c1945e0-e243-4565-8785-c0bb9e12e4b1"
      },
      "execution_count": null,
      "outputs": [
        {
          "output_type": "stream",
          "name": "stdout",
          "text": [
            "Number of data points: 1560\n"
          ]
        }
      ]
    },
    {
      "cell_type": "code",
      "source": [
        "# Assuming your CSV has a 'text' column for input text and a 'label' column for labels\n",
        "X = data['Content']\n",
        "y = data['label']\n",
        "\n",
        "# Split the data into training and testing sets\n",
        "X_train, X_test, y_train, y_test = train_test_split(X, y, test_size=0.25, random_state=42)\n",
        "\n",
        "# TF-IDF vectorization\n",
        "tfidf_vectorizer = TfidfVectorizer(max_features=1000)  # You can adjust max_features as needed\n",
        "X_train_tfidf = tfidf_vectorizer.fit_transform(X_train)\n",
        "X_test_tfidf = tfidf_vectorizer.transform(X_test)\n"
      ],
      "metadata": {
        "id": "D88O07pqmQZF"
      },
      "execution_count": null,
      "outputs": []
    },
    {
      "cell_type": "code",
      "source": [
        "# Initialize and train K-Nearest Neighbors classifier\n",
        "k = 6 # Number of neighbors\n",
        "knn_classifier = KNeighborsClassifier(n_neighbors=k)\n",
        "knn_classifier.fit(X_train_tfidf, y_train)\n",
        "\n",
        "# Make predictions on the test set\n",
        "y_pred = knn_classifier.predict(X_test_tfidf)\n",
        "\n",
        "# Evaluate the classifier\n",
        "print(classification_report(y_test, y_pred))"
      ],
      "metadata": {
        "colab": {
          "base_uri": "https://localhost:8080/"
        },
        "id": "nslvGRuOmVvj",
        "outputId": "2105ca5c-9571-4c64-9d57-5ad7a56496e0"
      },
      "execution_count": null,
      "outputs": [
        {
          "output_type": "stream",
          "name": "stdout",
          "text": [
            "              precision    recall  f1-score   support\n",
            "\n",
            "    Negative       0.71      1.00      0.83       277\n",
            "    Positive       1.00      0.01      0.02       113\n",
            "\n",
            "    accuracy                           0.71       390\n",
            "   macro avg       0.86      0.50      0.42       390\n",
            "weighted avg       0.80      0.71      0.60       390\n",
            "\n"
          ]
        }
      ]
    },
    {
      "cell_type": "code",
      "source": [
        "# Optionally, you can input new text and get predictions\n",
        "new_text = [\"This is a new text to classify\"]\n",
        "new_text_tfidf = tfidf_vectorizer.transform(new_text)\n",
        "new_prediction = knn_classifier.predict(new_text_tfidf)\n",
        "print(\"Predicted class:\", new_prediction)"
      ],
      "metadata": {
        "colab": {
          "base_uri": "https://localhost:8080/"
        },
        "id": "LzLRd7kLm0oA",
        "outputId": "b98c35c6-f557-45d2-ae5c-5f3d090cfe04"
      },
      "execution_count": null,
      "outputs": [
        {
          "output_type": "stream",
          "name": "stdout",
          "text": [
            "Predicted class: ['Negative']\n"
          ]
        }
      ]
    },
    {
      "cell_type": "code",
      "source": [
        "from sklearn.metrics import confusion_matrix\n",
        "import seaborn as sns\n",
        "import matplotlib.pyplot as plt"
      ],
      "metadata": {
        "id": "kcwhoxvlm4KX"
      },
      "execution_count": null,
      "outputs": []
    },
    {
      "cell_type": "code",
      "source": [
        "confusion = confusion_matrix(y_test, y_pred)"
      ],
      "metadata": {
        "id": "XpIpmNy8m7CK"
      },
      "execution_count": null,
      "outputs": []
    },
    {
      "cell_type": "code",
      "source": [
        "plt.figure(figsize=(8, 6))\n",
        "sns.heatmap(confusion, annot=True, fmt='d', cmap='Blues', xticklabels=knn_classifier.classes_, yticklabels=knn_classifier.classes_)\n",
        "plt.xlabel('Predicted')\n",
        "plt.ylabel('Actual')\n",
        "plt.title('Confusion Matrix')\n",
        "plt.show()"
      ],
      "metadata": {
        "id": "PEPa6-C5m-r6",
        "outputId": "6eee7665-aea2-4229-9917-d3d7a0e08a8d",
        "colab": {
          "base_uri": "https://localhost:8080/",
          "height": 564
        }
      },
      "execution_count": null,
      "outputs": [
        {
          "output_type": "display_data",
          "data": {
            "text/plain": [
              "<Figure size 800x600 with 2 Axes>"
            ],
            "image/png": "[encoded data removed]"
          },
          "metadata": {}
        }
      ]
    }
  ]
}